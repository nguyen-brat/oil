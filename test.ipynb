{
 "cells": [
  {
   "cell_type": "code",
   "execution_count": null,
   "metadata": {},
   "outputs": [],
   "source": [
    "import requests\n",
    "import json\n",
    "URL = \"https://bahnar.dscilab.com:20007/llama/api\"\n",
    "headers  = {\"Content-Type\": \"application/json\"}\n",
    "\n",
    "info = {\n",
    "    \"prompt\": \"Khoảng cách từ trái đất đến mặt trời là bao xa\",\n",
    "    \"lang\": \"vi\"\n",
    "}\n",
    "\n",
    "resp = requests.post(URL, headers = headers, data=json.dumps(info))\n",
    "data = json.loads(resp.content)\n",
    "print(data['answer'])"
   ]
  },
  {
   "cell_type": "code",
   "execution_count": null,
   "metadata": {},
   "outputs": [],
   "source": []
  },
  {
   "cell_type": "code",
   "execution_count": 1,
   "metadata": {},
   "outputs": [],
   "source": [
    "from run import Inference\n",
    "\n",
    "inference = Inference(url='https://bahnar.dscilab.com:20007/llama/api')\n",
    "answer = inference('Ai là tổng giảm đốc công ty Vietsovpetro ?')"
   ]
  },
  {
   "cell_type": "code",
   "execution_count": 2,
   "metadata": {},
   "outputs": [
    {
     "name": "stdout",
     "output_type": "stream",
     "text": [
      "  Trong văn bản đưa ra, ông Vũ Mai Khanh là tổng giám đốc Công ty TNHH Dịch vụ Biển Tân Cảng Công ty Cổ Phần Hóa Chất Dầu Khí Chi Nhánh Dầu Khí (PVC) - ông Lê Việt Dũng Phó tổng Giám đốc.\n",
      "Ông Mai Việt Hùng là Tổng Giám đốc PWC Việt Nam. Ông Mai Việt Hùng là Tổng Giám đốc PWC Việt Nam. Điều này cho thấy, Mai Việt Hùng là Tổng Giám đốc PWC Việt Nam, không phải Tổng Giám đốc VietSoV Petrol.\n"
     ]
    }
   ],
   "source": [
    "print(answer[0])"
   ]
  },
  {
   "cell_type": "code",
   "execution_count": 3,
   "metadata": {},
   "outputs": [
    {
     "data": {
      "text/plain": [
       "['Tới dự Hội nghị, về phía Vietsovpetro có ông Trần Quốc Thắng – Phó tổng Giám đốc và lãnh đạo một số phòng/ban, đơn vị trực thuộc. Về phía XNDV có ông Đỗ Mạnh Hà – Giám đốc Xí nghiệp cùng Ban Giám đốc, đại diện các phòng, ban đơn vị trong Xí nghiệp.\\n\\nTham dự Hội thảo có đại diện các công ty đối tác chính: Công ty Cổ phần Dịch vụ Biển Tân Cảng, Công ty Cổ phần Xây dựng Khai thác Cảng HVK, Tổng Công ty Hóa chất và DV Dầu khí - CTCP - Chi nhánh Dịch vụ Hóa chất Dầu khí (PVCHEM-CS), Công ty Cổ phần Công nghệ và Dịch vụ ATC, Công ty TNHH Vietubes, Công ty TNHH Giao nhận Hàng hóa XNK Củ Chi, Công ty Cổ phần Vận tải biển Biển Xanh, Công ty TNHH Altus Việt Nam, Công ty TNHH Indochina Shipping Service and Forwarding, Công ty Cổ phần Năng Lượng HT, Công ty Cổ phần Xây lắp Công trình Năng lượng Biển (OEI), Công ty Cổ phần Thương mại Dịch vụ Dầu khí Hoàng Nguyên, Công ty TNHH Minh Tuấn…',\n",
       " 'Đến năm 2022, tổng vốn chủ sở hữu hợp nhất của 19 Tập đoàn, tổng công ty trực thuộc Ủy ban Quản lý vốn Nhà nước tại doanh nghiệp đạt 1,154 triệu tỷ đồng; tổng tài sản hợp nhất đạt 2,491 triệu tỷ đồng, chiếm tỷ lệ khoảng 63% tổng vốn chủ sở hữu và 65% tổng tài sản của các doanh nghiệp nhà nước (DNNN) trong cả nước.\\n\\n3. Tổng Giám đốc Petrovietnam Lê Mạnh Hùng tiếp lãnh đạo Công ty PwC Việt Nam\\n\\nNgày 26/9 tại Hà Nội, Tổng Giám đốc Tập đoàn Dầu khí Việt Nam (Petrovietnam) Lê Mạnh Hùng đã có buổi tiếp và làm việc với ông Mai Viết Hùng Trân - Tổng Giám đốc Công ty PricewaterhouseCoopers Việt Nam (PwC Việt Nam).\\n\\nTại buổi tiếp, lãnh đạo Petrovietnam và PwC đã trao đổi, thảo luận về các vấn đề liên quan đến xu hướng chuyển dịch năng lượng, cũng như một số vấn đề đang được quan tâm như báo cáo ESG…',\n",
       " 'Ban lãnh đạo của liên doanh Vietsovpetro gồm\\nÔng Vũ Mai Khanh: Tổng Giám đốc\\nÔng Сараев Олег Петрович Phó Tổng giám đốc thứ nhất\\nÔng Lê Việt Dũng Phó Tổng giám đốc - Chánh Kỹ sư\\nÔng Phạm Xuân Sơn Phó Tổng giám đốc\\nÔng Yakovenko E.V. Phó Tổng giám đốc\\nÔng Trần Quốc Thắng Phó Tổng giám đốc\\nÔng Lương Quốc Dân Phó Tổng giám đốc - Chánh Kế toán\\nÔng Trần Xuân Hoàng Phó Tổng giám đốc\\nÔng Mai Đăng Tuấn Phó Tổng giám đốc\\nÔng Trần Công Tín Phó Tổng giám đốc - Chánh Kinh tế\\n']"
      ]
     },
     "execution_count": 3,
     "metadata": {},
     "output_type": "execute_result"
    }
   ],
   "source": [
    "answer[1]"
   ]
  },
  {
   "cell_type": "code",
   "execution_count": 7,
   "metadata": {},
   "outputs": [],
   "source": [
    "import re\n",
    "def clean(text):\n",
    "    text = re.sub(r'\\n+', r'.', text)\n",
    "    text = re.sub(r'\\.+', r' . ', text)\n",
    "    text = re.sub(r\"['\\\",\\?:\\-!-]\", \"\", text)\n",
    "    text = text.strip()\n",
    "    text = \" \".join(text.split())\n",
    "    text = text.lower()\n",
    "    return text"
   ]
  },
  {
   "cell_type": "code",
   "execution_count": 12,
   "metadata": {},
   "outputs": [
    {
     "name": "stdout",
     "output_type": "stream",
     "text": [
      "ban lãnh đạo của liên doanh vietsovpetro gồm . ông vũ mai khanh tổng giám đốc . ông сараев олег петрович phó tổng giám đốc thứ nhất . ông lê việt dũng phó tổng giám đốc chánh kỹ sư . ông phạm xuân sơn phó tổng giám đốc . ông yakovenko e . v . phó tổng giám đốc . ông trần quốc thắng phó tổng giám đốc . ông lương quốc dân phó tổng giám đốc chánh kế toán . ông trần xuân hoàng phó tổng giám đốc . ông mai đăng tuấn phó tổng giám đốc . ông trần công tín phó tổng giám đốc chánh kinh tế .\n"
     ]
    }
   ],
   "source": [
    "print(clean(f'''Ban lãnh đạo của liên doanh Vietsovpetro gồm\n",
    "Ông Vũ Mai Khanh: Tổng Giám đốc\n",
    "Ông Сараев Олег Петрович Phó Tổng giám đốc thứ nhất\n",
    "Ông Lê Việt Dũng Phó Tổng giám đốc - Chánh Kỹ sư\n",
    "Ông Phạm Xuân Sơn Phó Tổng giám đốc\n",
    "Ông Yakovenko E.V. Phó Tổng giám đốc\n",
    "Ông Trần Quốc Thắng Phó Tổng giám đốc\n",
    "Ông Lương Quốc Dân Phó Tổng giám đốc - Chánh Kế toán\n",
    "Ông Trần Xuân Hoàng Phó Tổng giám đốc\n",
    "Ông Mai Đăng Tuấn Phó Tổng giám đốc\n",
    "Ông Trần Công Tín Phó Tổng giám đốc - Chánh Kinh tế\n",
    "\n",
    "'''))"
   ]
  },
  {
   "cell_type": "code",
   "execution_count": null,
   "metadata": {},
   "outputs": [],
   "source": [
    "from retrieval.tfidf import DocIR\n",
    "\n"
   ]
  }
 ],
 "metadata": {
  "kernelspec": {
   "display_name": "fact",
   "language": "python",
   "name": "python3"
  },
  "language_info": {
   "codemirror_mode": {
    "name": "ipython",
    "version": 3
   },
   "file_extension": ".py",
   "mimetype": "text/x-python",
   "name": "python",
   "nbconvert_exporter": "python",
   "pygments_lexer": "ipython3",
   "version": "3.10.12"
  },
  "orig_nbformat": 4
 },
 "nbformat": 4,
 "nbformat_minor": 2
}
