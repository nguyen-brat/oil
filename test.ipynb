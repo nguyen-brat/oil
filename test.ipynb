{
 "cells": [
  {
   "cell_type": "code",
   "execution_count": null,
   "metadata": {},
   "outputs": [],
   "source": [
    "import requests\n",
    "import json\n",
    "URL = \"https://bahnar.dscilab.com:20007/llama/api\"\n",
    "headers  = {\"Content-Type\": \"application/json\"}\n",
    "\n",
    "info = {\n",
    "    \"prompt\": \"Khoảng cách từ trái đất đến mặt trời là bao xa\",\n",
    "    \"lang\": \"vi\"\n",
    "}\n",
    "\n",
    "resp = requests.post(URL, headers = headers, data=json.dumps(info))\n",
    "data = json.loads(resp.content)\n",
    "print(data['answer'])"
   ]
  },
  {
   "cell_type": "code",
   "execution_count": 7,
   "metadata": {},
   "outputs": [
    {
     "name": "stdout",
     "output_type": "stream",
     "text": [
      "ban lãnh đạo của liên doanh vietsovpetro gồm . ông vũ mai khanh tổng giám đốc . ông сараев олег петрович phó tổng giám đốc thứ nhất . ông lê việt dũng phó tổng giám đốc chánh kỹ sư . ông phạm xuân sơn phó tổng giám đốc . ông yakovenko e . v . phó tổng giám đốc . ông trần quốc thắng phó tổng giám đốc . ông lương quốc dân phó tổng giám đốc chánh kế toán . ông trần xuân hoàng phó tổng giám đốc . ông mai đăng tuấn phó tổng giám đốc . ông trần công tín phó tổng giám đốc chánh kinh tế .\n",
      "<Response [200]>\n"
     ]
    }
   ],
   "source": [
    "from run import Inference\n",
    "\n",
    "inference = Inference(url='https://bahnar.dscilab.com:20007/llama/api')\n",
    "answer = inference('Ai là tổng giám đốc liên doanh Vietsovpetro ?')"
   ]
  },
  {
   "cell_type": "code",
   "execution_count": 8,
   "metadata": {},
   "outputs": [
    {
     "name": "stdout",
     "output_type": "stream",
     "text": [
      "  Văn bản không cho biết ai là tổng giám đốc liên doanh vietsovpetro.\n"
     ]
    }
   ],
   "source": [
    "print(answer[0])"
   ]
  },
  {
   "cell_type": "code",
   "execution_count": 1,
   "metadata": {},
   "outputs": [
    {
     "name": "stderr",
     "output_type": "stream",
     "text": [
      "/home/nguyen/.local/lib/python3.10/site-packages/tqdm/auto.py:21: TqdmWarning: IProgress not found. Please update jupyter and ipywidgets. See https://ipywidgets.readthedocs.io/en/stable/user_install.html\n",
      "  from .autonotebook import tqdm as notebook_tqdm\n"
     ]
    }
   ],
   "source": [
    "from retrieval.tfidf import DocIR\n",
    "doc_retrieval = DocIR()\n",
    "output = doc_retrieval('Ai là tổng giám đốc công ty Vietsovpetro ?', k=5)"
   ]
  },
  {
   "cell_type": "code",
   "execution_count": 9,
   "metadata": {},
   "outputs": [
    {
     "data": {
      "text/plain": [
       "['ban lãnh đạo của liên doanh vietsovpetro gồm . ông vũ mai khanh tổng giám đốc . ông сараев олег петрович phó tổng giám đốc thứ nhất . ông lê việt dũng phó tổng giám đốc chánh kỹ sư . ông phạm xuân sơn phó tổng giám đốc . ông yakovenko e . v . phó tổng giám đốc . ông trần quốc thắng phó tổng giám đốc . ông lương quốc dân phó tổng giám đốc chánh kế toán . ông trần xuân hoàng phó tổng giám đốc . ông mai đăng tuấn phó tổng giám đốc . ông trần công tín phó tổng giám đốc chánh kinh tế .',\n",
       " 'tới dự hội nghị về phía vietsovpetro có ông trần quốc thắng – phó tổng giám đốc và lãnh đạo một số phòng/ban đơn vị trực thuộc . về phía xndv có ông đỗ mạnh hà – giám đốc xí nghiệp cùng ban giám đốc đại diện các phòng ban đơn vị trong xí nghiệp . tham dự hội thảo có đại diện các công ty đối tác chính công ty cổ phần dịch vụ biển tân cảng công ty cổ phần xây dựng khai thác cảng hvk tổng công ty hóa chất và dv dầu khí ctcp chi nhánh dịch vụ hóa chất dầu khí (pvchemcs) công ty cổ phần công nghệ và dịch vụ atc công ty tnhh vietubes công ty tnhh giao nhận hàng hóa xnk củ chi công ty cổ phần vận tải biển biển xanh công ty tnhh altus việt nam công ty tnhh indochina shipping service and forwarding công ty cổ phần năng lượng ht công ty cổ phần xây lắp công trình năng lượng biển (oei) công ty cổ phần thương mại dịch vụ dầu khí hoàng nguyên công ty tnhh minh tuấn…',\n",
       " 'là đơn vị đồng hành cùng vietsovpetro trong hành trình xây dựng cẩm nang văn hóa đại diện dale carnegie việt nam bà nguyễn trịnh khánh linh – chủ tịch hđqt tổng giám đốc nhấn mạnh việc phổ biến tuyên truyền cẩm nang văn hóa sẽ thành công nếu có sự chung tay của tất cả phòng ban đơn vị và các tổ chức chính trị xã hội . chủ tịch hđqt tổng giám đốc dale carnegie cũng giới thiệu các tiêu chuẩn bộ nhận diện văn hóa để toàn đội ngũ vietsovpetro có thể áp dụng và triển khai trong các hoạt động truyền thông tiếp theo .',\n",
       " 'đến tham dự có đồng chí lê văn quy – phó bí thư chi bộ đsnơ giám đốc công ty công đoàn đồng chí nguyễn trường giang – giám đốc ttvhtt cùng toàn thể các cbcnvnlđ 02 đơn vị . thay mặt ban chấp hàng công đoàn đồng chí nguyễn thị kim oanh – chủ tịch công đoàn phát biểu khai mạc chương trình đồng thời biểu dương tinh thần tham gia đông đủ của cbcnv các bộ phận . sau các tiết mục văn nghệ nhảy dân vũ tập thể do ban nữ công tổ chức là các đội thi các trò chơi dân gian trò chơi luồn vòng lột áo kéo co… kết thúc là chương trình làm sạch môi trường bờ biển . ngày hội thể thao vui khỏe vì môi trường xanh – sạch – đẹp đã diễn ra thành công tốt đẹp đã tạo được sân chơi bổ ích những giờ phút vui vẻ sau giờ làm việc . qua đó đã góp phần tăng cường sự đoàn kết gắn bó giữa các cbcnvnlđ đang làm việc tại các bộ phận .',\n",
       " 'đến năm 2022 tổng vốn chủ sở hữu hợp nhất của 19 tập đoàn tổng công ty trực thuộc ủy ban quản lý vốn nhà nước tại doanh nghiệp đạt 1154 triệu tỷ đồng; tổng tài sản hợp nhất đạt 2491 triệu tỷ đồng chiếm tỷ lệ khoảng 63% tổng vốn chủ sở hữu và 65% tổng tài sản của các doanh nghiệp nhà nước (dnnn) trong cả nước . 3 . tổng giám đốc petrovietnam lê mạnh hùng tiếp lãnh đạo công ty pwc việt nam . ngày 26/9 tại hà nội tổng giám đốc tập đoàn dầu khí việt nam (petrovietnam) lê mạnh hùng đã có buổi tiếp và làm việc với ông mai viết hùng trân tổng giám đốc công ty pricewaterhousecoopers việt nam (pwc việt nam) . tại buổi tiếp lãnh đạo petrovietnam và pwc đã trao đổi thảo luận về các vấn đề liên quan đến xu hướng chuyển dịch năng lượng cũng như một số vấn đề đang được quan tâm như báo cáo esg…']"
      ]
     },
     "execution_count": 9,
     "metadata": {},
     "output_type": "execute_result"
    }
   ],
   "source": [
    "output[0]"
   ]
  },
  {
   "cell_type": "code",
   "execution_count": 5,
   "metadata": {},
   "outputs": [
    {
     "data": {
      "text/plain": [
       "['liên doanh vietsovpetro (gọi tắt là vietsovpetro) là pháp nhân hợp pháp của nước chxhcn việt nam được thành lập năm 1981 là đơn vị thành viên của tập đoàn dầu khí quốc gia việt nam doanh nghiệp hàng đầu trong lĩnh vực tìm kiếm thăm dò địa chất và khai thác dầu khí tại việt nam; là đối tác tin cậy giúp đáp ứng nhu cầu gia tăng năng lượng trong sản xuất và tiêu dùng của việt nam theo hướng hiệu quả và bền vững . lĩnh vực hoạt động chính của vietsovpetro là nghiên cứu khoa học khảo sát khoan thăm dò địa chất thiết kế phát triển xây dựng mỏ khai thác dầu và khí thu gom xử lý dầu khí và condensate tại lô 091 và các lô dầu khí khác ở thềm lục địa việt nam; cung cấp các dịch vụ dầu khí/năng lượng cho các đối tác ở việt nam và trong khu vực .',\n",
       " 'liên doanh vietsovpetro (gọi tắt là vietsovpetro) là pháp nhân hợp pháp của nước chxhcn việt nam được thành lập năm 1981 là đơn vị thành viên của tập đoàn dầu khí quốc gia việt nam doanh nghiệp hàng đầu trong lĩnh vực tìm kiếm thăm dò địa chất và khai thác dầu khí tại việt nam; là đối tác tin cậy giúp đáp ứng nhu cầu gia tăng năng lượng trong sản xuất và tiêu dùng của việt nam theo hướng hiệu quả và bền vững . lĩnh vực hoạt động chính của vietsovpetro là nghiên cứu khoa học khảo sát khoan thăm dò địa chất thiết kế phát triển xây dựng mỏ khai thác dầu và khí thu gom xử lý dầu khí và condensate tại lô 091 và các lô dầu khí khác ở thềm lục địa việt nam; cung cấp các dịch vụ dầu khí/năng lượng cho các đối tác ở việt nam và trong khu vực .']"
      ]
     },
     "execution_count": 5,
     "metadata": {},
     "output_type": "execute_result"
    }
   ],
   "source": [
    "answer[1]"
   ]
  },
  {
   "cell_type": "code",
   "execution_count": 3,
   "metadata": {},
   "outputs": [],
   "source": [
    "import re\n",
    "def clean(text):\n",
    "    text = re.sub(r'\\n+', r'.', text)\n",
    "    text = re.sub(r'\\.+', r' . ', text)\n",
    "    text = re.sub(r\"['\\\",\\?:\\-!-]\", \"\", text)\n",
    "    text = text.strip()\n",
    "    text = \" \".join(text.split())\n",
    "    text = text.lower()\n",
    "    return text"
   ]
  },
  {
   "cell_type": "code",
   "execution_count": 4,
   "metadata": {},
   "outputs": [
    {
     "name": "stdout",
     "output_type": "stream",
     "text": [
      "liên doanh vietsovpetro (gọi tắt là vietsovpetro) là pháp nhân hợp pháp của nước chxhcn việt nam được thành lập năm 1981 là đơn vị thành viên của tập đoàn dầu khí quốc gia việt nam doanh nghiệp hàng đầu trong lĩnh vực tìm kiếm thăm dò địa chất và khai thác dầu khí tại việt nam; là đối tác tin cậy giúp đáp ứng nhu cầu gia tăng năng lượng trong sản xuất và tiêu dùng của việt nam theo hướng hiệu quả và bền vững . lĩnh vực hoạt động chính của vietsovpetro là nghiên cứu khoa học khảo sát khoan thăm dò địa chất thiết kế phát triển xây dựng mỏ khai thác dầu và khí thu gom xử lý dầu khí và condensate tại lô 091 và các lô dầu khí khác ở thềm lục địa việt nam; cung cấp các dịch vụ dầu khí/năng lượng cho các đối tác ở việt nam và trong khu vực .\n"
     ]
    }
   ],
   "source": [
    "print(clean(f'''liên doanh vietsovpetro (gọi tắt là vietsovpetro) là pháp nhân hợp pháp của nước chxhcn việt nam được thành lập năm 1981 là đơn vị thành viên của tập đoàn dầu khí quốc gia việt nam doanh nghiệp hàng đầu trong lĩnh vực tìm kiếm thăm dò địa chất và khai thác dầu khí tại việt nam; là đối tác tin cậy giúp đáp ứng nhu cầu gia tăng năng lượng trong sản xuất và tiêu dùng của việt nam theo hướng hiệu quả và bền vững . lĩnh vực hoạt động chính của vietsovpetro là nghiên cứu khoa học khảo sát khoan thăm dò địa chất thiết kế phát triển xây dựng mỏ khai thác dầu và khí thu gom xử lý dầu khí và condensate tại lô 091 và các lô dầu khí khác ở thềm lục địa việt nam; cung cấp các dịch vụ dầu khí/năng lượng cho các đối tác ở việt nam và trong khu vực .\n",
    "'''))"
   ]
  },
  {
   "cell_type": "code",
   "execution_count": null,
   "metadata": {},
   "outputs": [],
   "source": []
  }
 ],
 "metadata": {
  "kernelspec": {
   "display_name": "fact",
   "language": "python",
   "name": "python3"
  },
  "language_info": {
   "codemirror_mode": {
    "name": "ipython",
    "version": 3
   },
   "file_extension": ".py",
   "mimetype": "text/x-python",
   "name": "python",
   "nbconvert_exporter": "python",
   "pygments_lexer": "ipython3",
   "version": "3.10.12"
  },
  "orig_nbformat": 4
 },
 "nbformat": 4,
 "nbformat_minor": 2
}
