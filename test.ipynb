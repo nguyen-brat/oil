{
 "cells": [
  {
   "cell_type": "code",
   "execution_count": null,
   "metadata": {},
   "outputs": [],
   "source": [
    "import requests\n",
    "import json\n",
    "URL = \"https://bahnar.dscilab.com:20007/llama/api\"\n",
    "headers  = {\"Content-Type\": \"application/json\"}\n",
    "\n",
    "info = {\n",
    "    \"prompt\": \"Khoảng cách từ trái đất đến mặt trời là bao xa\",\n",
    "    \"lang\": \"vi\"\n",
    "}\n",
    "\n",
    "resp = requests.post(URL, headers = headers, data=json.dumps(info))\n",
    "data = json.loads(resp.content)\n",
    "print(data['answer'])"
   ]
  },
  {
   "cell_type": "code",
   "execution_count": null,
   "metadata": {},
   "outputs": [],
   "source": []
  },
  {
   "cell_type": "code",
   "execution_count": 1,
   "metadata": {},
   "outputs": [
    {
     "name": "stdout",
     "output_type": "stream",
     "text": [
      "hello\n",
      "['oil_crawl/giới thiệu/27.txt', 'oil_crawl/giới thiệu/11.txt', 'oil_crawl/giới thiệu/30.txt', 'oil_crawl/giới thiệu/8.txt', 'oil_crawl/giới thiệu/26.txt', 'oil_crawl/giới thiệu/19.txt', 'oil_crawl/giới thiệu/29.txt', 'oil_crawl/giới thiệu/32.txt', 'oil_crawl/giới thiệu/28.txt', 'oil_crawl/giới thiệu/2.txt', 'oil_crawl/giới thiệu/10.txt', 'oil_crawl/giới thiệu/15.txt', 'oil_crawl/giới thiệu/21.txt', 'oil_crawl/giới thiệu/33.txt', 'oil_crawl/giới thiệu/35.txt', 'oil_crawl/giới thiệu/24.txt', 'oil_crawl/giới thiệu/41.txt', 'oil_crawl/giới thiệu/38.txt', 'oil_crawl/giới thiệu/25.txt', 'oil_crawl/giới thiệu/37.txt', 'oil_crawl/giới thiệu/9.txt', 'oil_crawl/giới thiệu/14.txt', 'oil_crawl/giới thiệu/16.txt', 'oil_crawl/giới thiệu/23.txt', 'oil_crawl/giới thiệu/7.txt', 'oil_crawl/giới thiệu/34.txt', 'oil_crawl/giới thiệu/1.txt', 'oil_crawl/giới thiệu/40.txt', 'oil_crawl/giới thiệu/31.txt', 'oil_crawl/giới thiệu/39.txt', 'oil_crawl/giới thiệu/6.txt', 'oil_crawl/giới thiệu/20.txt', 'oil_crawl/giới thiệu/36.txt', 'oil_crawl/giới thiệu/17.txt', 'oil_crawl/giới thiệu/13.txt', 'oil_crawl/giới thiệu/12.txt', 'oil_crawl/giới thiệu/4.txt', 'oil_crawl/giới thiệu/3.txt', 'oil_crawl/giới thiệu/18.txt', 'oil_crawl/giới thiệu/22.txt', 'oil_crawl/đơn vị trực thuộc/27.txt', 'oil_crawl/đơn vị trực thuộc/11.txt', 'oil_crawl/đơn vị trực thuộc/30.txt', 'oil_crawl/đơn vị trực thuộc/8.txt', 'oil_crawl/đơn vị trực thuộc/26.txt', 'oil_crawl/đơn vị trực thuộc/19.txt', 'oil_crawl/đơn vị trực thuộc/29.txt', 'oil_crawl/đơn vị trực thuộc/32.txt', 'oil_crawl/đơn vị trực thuộc/28.txt', 'oil_crawl/đơn vị trực thuộc/2.txt', 'oil_crawl/đơn vị trực thuộc/10.txt', 'oil_crawl/đơn vị trực thuộc/15.txt', 'oil_crawl/đơn vị trực thuộc/42.txt', 'oil_crawl/đơn vị trực thuộc/60.txt', 'oil_crawl/đơn vị trực thuộc/5.txt', 'oil_crawl/đơn vị trực thuộc/21.txt', 'oil_crawl/đơn vị trực thuộc/33.txt', 'oil_crawl/đơn vị trực thuộc/45.txt', 'oil_crawl/đơn vị trực thuộc/35.txt', 'oil_crawl/đơn vị trực thuộc/57.txt', 'oil_crawl/đơn vị trực thuộc/24.txt', 'oil_crawl/đơn vị trực thuộc/55.txt', 'oil_crawl/đơn vị trực thuộc/43.txt', 'oil_crawl/đơn vị trực thuộc/41.txt', 'oil_crawl/đơn vị trực thuộc/38.txt', 'oil_crawl/đơn vị trực thuộc/25.txt', 'oil_crawl/đơn vị trực thuộc/37.txt', 'oil_crawl/đơn vị trực thuộc/9.txt', 'oil_crawl/đơn vị trực thuộc/14.txt', 'oil_crawl/đơn vị trực thuộc/16.txt', 'oil_crawl/đơn vị trực thuộc/23.txt', 'oil_crawl/đơn vị trực thuộc/7.txt', 'oil_crawl/đơn vị trực thuộc/46.txt', 'oil_crawl/đơn vị trực thuộc/48.txt', 'oil_crawl/đơn vị trực thuộc/58.txt', 'oil_crawl/đơn vị trực thuộc/51.txt', 'oil_crawl/đơn vị trực thuộc/47.txt', 'oil_crawl/đơn vị trực thuộc/34.txt', 'oil_crawl/đơn vị trực thuộc/1.txt', 'oil_crawl/đơn vị trực thuộc/40.txt', 'oil_crawl/đơn vị trực thuộc/31.txt', 'oil_crawl/đơn vị trực thuộc/39.txt', 'oil_crawl/đơn vị trực thuộc/54.txt', 'oil_crawl/đơn vị trực thuộc/6.txt', 'oil_crawl/đơn vị trực thuộc/52.txt', 'oil_crawl/đơn vị trực thuộc/50.txt', 'oil_crawl/đơn vị trực thuộc/20.txt', 'oil_crawl/đơn vị trực thuộc/53.txt', 'oil_crawl/đơn vị trực thuộc/49.txt', 'oil_crawl/đơn vị trực thuộc/36.txt', 'oil_crawl/đơn vị trực thuộc/59.txt', 'oil_crawl/đơn vị trực thuộc/17.txt', 'oil_crawl/đơn vị trực thuộc/13.txt', 'oil_crawl/đơn vị trực thuộc/12.txt', 'oil_crawl/đơn vị trực thuộc/44.txt', 'oil_crawl/đơn vị trực thuộc/4.txt', 'oil_crawl/đơn vị trực thuộc/3.txt', 'oil_crawl/đơn vị trực thuộc/18.txt', 'oil_crawl/đơn vị trực thuộc/56.txt', 'oil_crawl/đơn vị trực thuộc/22.txt', 'oil_crawl/tuyển dụng/2.txt', 'oil_crawl/tuyển dụng/1.txt', 'oil_crawl/tuyển dụng/3.txt', 'oil_crawl/sản phẩm dịch vụ/1.txt', 'oil_crawl/tuyển sinh/11.txt', 'oil_crawl/tuyển sinh/8.txt', 'oil_crawl/tuyển sinh/26.txt', 'oil_crawl/tuyển sinh/19.txt', 'oil_crawl/tuyển sinh/2.txt', 'oil_crawl/tuyển sinh/10.txt', 'oil_crawl/tuyển sinh/15.txt', 'oil_crawl/tuyển sinh/5.txt', 'oil_crawl/tuyển sinh/21.txt', 'oil_crawl/tuyển sinh/24.txt', 'oil_crawl/tuyển sinh/25.txt', 'oil_crawl/tuyển sinh/9.txt', 'oil_crawl/tuyển sinh/14.txt', 'oil_crawl/tuyển sinh/16.txt', 'oil_crawl/tuyển sinh/23.txt', 'oil_crawl/tuyển sinh/7.txt', 'oil_crawl/tuyển sinh/1.txt', 'oil_crawl/tuyển sinh/6.txt', 'oil_crawl/tuyển sinh/20.txt', 'oil_crawl/tuyển sinh/17.txt', 'oil_crawl/tuyển sinh/13.txt', 'oil_crawl/tuyển sinh/12.txt', 'oil_crawl/tuyển sinh/4.txt', 'oil_crawl/tuyển sinh/3.txt', 'oil_crawl/tuyển sinh/18.txt', 'oil_crawl/tuyển sinh/22.txt', 'oil_crawl/tin tưc-sự kiện/27.txt', 'oil_crawl/tin tưc-sự kiện/11.txt', 'oil_crawl/tin tưc-sự kiện/30.txt', 'oil_crawl/tin tưc-sự kiện/8.txt', 'oil_crawl/tin tưc-sự kiện/26.txt', 'oil_crawl/tin tưc-sự kiện/19.txt', 'oil_crawl/tin tưc-sự kiện/29.txt', 'oil_crawl/tin tưc-sự kiện/32.txt', 'oil_crawl/tin tưc-sự kiện/28.txt', 'oil_crawl/tin tưc-sự kiện/2.txt', 'oil_crawl/tin tưc-sự kiện/10.txt', 'oil_crawl/tin tưc-sự kiện/15.txt', 'oil_crawl/tin tưc-sự kiện/42.txt', 'oil_crawl/tin tưc-sự kiện/60.txt', 'oil_crawl/tin tưc-sự kiện/5.txt', 'oil_crawl/tin tưc-sự kiện/62.txt', 'oil_crawl/tin tưc-sự kiện/21.txt', 'oil_crawl/tin tưc-sự kiện/33.txt', 'oil_crawl/tin tưc-sự kiện/45.txt', 'oil_crawl/tin tưc-sự kiện/35.txt', 'oil_crawl/tin tưc-sự kiện/61.txt', 'oil_crawl/tin tưc-sự kiện/57.txt', 'oil_crawl/tin tưc-sự kiện/24.txt', 'oil_crawl/tin tưc-sự kiện/55.txt', 'oil_crawl/tin tưc-sự kiện/43.txt', 'oil_crawl/tin tưc-sự kiện/41.txt', 'oil_crawl/tin tưc-sự kiện/38.txt', 'oil_crawl/tin tưc-sự kiện/25.txt', 'oil_crawl/tin tưc-sự kiện/37.txt', 'oil_crawl/tin tưc-sự kiện/9.txt', 'oil_crawl/tin tưc-sự kiện/14.txt', 'oil_crawl/tin tưc-sự kiện/68.txt', 'oil_crawl/tin tưc-sự kiện/16.txt', 'oil_crawl/tin tưc-sự kiện/66.txt', 'oil_crawl/tin tưc-sự kiện/63.txt', 'oil_crawl/tin tưc-sự kiện/23.txt', 'oil_crawl/tin tưc-sự kiện/7.txt', 'oil_crawl/tin tưc-sự kiện/46.txt', 'oil_crawl/tin tưc-sự kiện/48.txt', 'oil_crawl/tin tưc-sự kiện/58.txt', 'oil_crawl/tin tưc-sự kiện/51.txt', 'oil_crawl/tin tưc-sự kiện/47.txt', 'oil_crawl/tin tưc-sự kiện/34.txt', 'oil_crawl/tin tưc-sự kiện/69.txt', 'oil_crawl/tin tưc-sự kiện/1.txt', 'oil_crawl/tin tưc-sự kiện/40.txt', 'oil_crawl/tin tưc-sự kiện/31.txt', 'oil_crawl/tin tưc-sự kiện/64.txt', 'oil_crawl/tin tưc-sự kiện/39.txt', 'oil_crawl/tin tưc-sự kiện/54.txt', 'oil_crawl/tin tưc-sự kiện/6.txt', 'oil_crawl/tin tưc-sự kiện/52.txt', 'oil_crawl/tin tưc-sự kiện/50.txt', 'oil_crawl/tin tưc-sự kiện/67.txt', 'oil_crawl/tin tưc-sự kiện/65.txt', 'oil_crawl/tin tưc-sự kiện/20.txt', 'oil_crawl/tin tưc-sự kiện/53.txt', 'oil_crawl/tin tưc-sự kiện/49.txt', 'oil_crawl/tin tưc-sự kiện/36.txt', 'oil_crawl/tin tưc-sự kiện/59.txt', 'oil_crawl/tin tưc-sự kiện/17.txt', 'oil_crawl/tin tưc-sự kiện/13.txt', 'oil_crawl/tin tưc-sự kiện/12.txt', 'oil_crawl/tin tưc-sự kiện/44.txt', 'oil_crawl/tin tưc-sự kiện/4.txt', 'oil_crawl/tin tưc-sự kiện/3.txt', 'oil_crawl/tin tưc-sự kiện/18.txt', 'oil_crawl/tin tưc-sự kiện/56.txt', 'oil_crawl/tin tưc-sự kiện/22.txt', 'oil_crawl/nguôn lực/8.txt', 'oil_crawl/nguôn lực/2.txt', 'oil_crawl/nguôn lực/10.txt', 'oil_crawl/nguôn lực/15.txt', 'oil_crawl/nguôn lực/5.txt', 'oil_crawl/nguôn lực/9.txt', 'oil_crawl/nguôn lực/14.txt', 'oil_crawl/nguôn lực/7.txt', 'oil_crawl/nguôn lực/11..txt', 'oil_crawl/nguôn lực/1.txt', 'oil_crawl/nguôn lực/6.txt', 'oil_crawl/nguôn lực/13.txt', 'oil_crawl/nguôn lực/12.txt', 'oil_crawl/nguôn lực/4.txt', 'oil_crawl/nguôn lực/3.txt']\n",
      "<Response [502]>\n"
     ]
    },
    {
     "ename": "JSONDecodeError",
     "evalue": "Expecting value: line 1 column 1 (char 0)",
     "output_type": "error",
     "traceback": [
      "\u001b[0;31m---------------------------------------------------------------------------\u001b[0m",
      "\u001b[0;31mJSONDecodeError\u001b[0m                           Traceback (most recent call last)",
      "\u001b[1;32m/home/nguyen/code/oil/test.ipynb Cell 3\u001b[0m line \u001b[0;36m4\n\u001b[1;32m      <a href='vscode-notebook-cell:/home/nguyen/code/oil/test.ipynb#W1sZmlsZQ%3D%3D?line=0'>1</a>\u001b[0m \u001b[39mfrom\u001b[39;00m \u001b[39mrun\u001b[39;00m \u001b[39mimport\u001b[39;00m Inference\n\u001b[1;32m      <a href='vscode-notebook-cell:/home/nguyen/code/oil/test.ipynb#W1sZmlsZQ%3D%3D?line=2'>3</a>\u001b[0m inference \u001b[39m=\u001b[39m Inference()\n\u001b[0;32m----> <a href='vscode-notebook-cell:/home/nguyen/code/oil/test.ipynb#W1sZmlsZQ%3D%3D?line=3'>4</a>\u001b[0m answer \u001b[39m=\u001b[39m inference(\u001b[39m'\u001b[39;49m\u001b[39mai là giám đôc công ty Vietspevtre\u001b[39;49m\u001b[39m'\u001b[39;49m)\n",
      "File \u001b[0;32m~/code/oil/run.py:22\u001b[0m, in \u001b[0;36mInference.__call__\u001b[0;34m(self, question)\u001b[0m\n\u001b[1;32m     20\u001b[0m informations \u001b[39m=\u001b[39m \u001b[39mself\u001b[39m\u001b[39m.\u001b[39mdoc_retrieval(query\u001b[39m=\u001b[39mquestion)\n\u001b[1;32m     21\u001b[0m joint_information \u001b[39m=\u001b[39m \u001b[39m'\u001b[39m\u001b[39m\\n\u001b[39;00m\u001b[39m'\u001b[39m\u001b[39m.\u001b[39mjoin(informations)\n\u001b[0;32m---> 22\u001b[0m answer \u001b[39m=\u001b[39m \u001b[39mself\u001b[39;49m\u001b[39m.\u001b[39;49mllm(question\u001b[39m=\u001b[39;49mquestion, contexts\u001b[39m=\u001b[39;49mjoint_information)\n\u001b[1;32m     23\u001b[0m \u001b[39m#answer = self.translator.translate(answer ,src='en' ,dest='vi').text\u001b[39;00m\n\u001b[1;32m     24\u001b[0m \u001b[39mreturn\u001b[39;00m answer, informations\n",
      "File \u001b[0;32m~/code/oil/llm.py:26\u001b[0m, in \u001b[0;36mLlmInference.__call__\u001b[0;34m(self, question, contexts)\u001b[0m\n\u001b[1;32m     24\u001b[0m resp \u001b[39m=\u001b[39m requests\u001b[39m.\u001b[39mpost(\u001b[39mself\u001b[39m\u001b[39m.\u001b[39murl, headers \u001b[39m=\u001b[39m \u001b[39mself\u001b[39m\u001b[39m.\u001b[39mheader, data\u001b[39m=\u001b[39mjson\u001b[39m.\u001b[39mdumps(info))\n\u001b[1;32m     25\u001b[0m \u001b[39mprint\u001b[39m(resp)\n\u001b[0;32m---> 26\u001b[0m data \u001b[39m=\u001b[39m json\u001b[39m.\u001b[39;49mloads(resp\u001b[39m.\u001b[39;49mcontent)\n\u001b[1;32m     27\u001b[0m \u001b[39mreturn\u001b[39;00m data[\u001b[39m'\u001b[39m\u001b[39manswer\u001b[39m\u001b[39m'\u001b[39m]\n",
      "File \u001b[0;32m~/miniconda3/envs/hcmut/lib/python3.10/json/__init__.py:346\u001b[0m, in \u001b[0;36mloads\u001b[0;34m(s, cls, object_hook, parse_float, parse_int, parse_constant, object_pairs_hook, **kw)\u001b[0m\n\u001b[1;32m    341\u001b[0m     s \u001b[39m=\u001b[39m s\u001b[39m.\u001b[39mdecode(detect_encoding(s), \u001b[39m'\u001b[39m\u001b[39msurrogatepass\u001b[39m\u001b[39m'\u001b[39m)\n\u001b[1;32m    343\u001b[0m \u001b[39mif\u001b[39;00m (\u001b[39mcls\u001b[39m \u001b[39mis\u001b[39;00m \u001b[39mNone\u001b[39;00m \u001b[39mand\u001b[39;00m object_hook \u001b[39mis\u001b[39;00m \u001b[39mNone\u001b[39;00m \u001b[39mand\u001b[39;00m\n\u001b[1;32m    344\u001b[0m         parse_int \u001b[39mis\u001b[39;00m \u001b[39mNone\u001b[39;00m \u001b[39mand\u001b[39;00m parse_float \u001b[39mis\u001b[39;00m \u001b[39mNone\u001b[39;00m \u001b[39mand\u001b[39;00m\n\u001b[1;32m    345\u001b[0m         parse_constant \u001b[39mis\u001b[39;00m \u001b[39mNone\u001b[39;00m \u001b[39mand\u001b[39;00m object_pairs_hook \u001b[39mis\u001b[39;00m \u001b[39mNone\u001b[39;00m \u001b[39mand\u001b[39;00m \u001b[39mnot\u001b[39;00m kw):\n\u001b[0;32m--> 346\u001b[0m     \u001b[39mreturn\u001b[39;00m _default_decoder\u001b[39m.\u001b[39;49mdecode(s)\n\u001b[1;32m    347\u001b[0m \u001b[39mif\u001b[39;00m \u001b[39mcls\u001b[39m \u001b[39mis\u001b[39;00m \u001b[39mNone\u001b[39;00m:\n\u001b[1;32m    348\u001b[0m     \u001b[39mcls\u001b[39m \u001b[39m=\u001b[39m JSONDecoder\n",
      "File \u001b[0;32m~/miniconda3/envs/hcmut/lib/python3.10/json/decoder.py:337\u001b[0m, in \u001b[0;36mJSONDecoder.decode\u001b[0;34m(self, s, _w)\u001b[0m\n\u001b[1;32m    332\u001b[0m \u001b[39mdef\u001b[39;00m \u001b[39mdecode\u001b[39m(\u001b[39mself\u001b[39m, s, _w\u001b[39m=\u001b[39mWHITESPACE\u001b[39m.\u001b[39mmatch):\n\u001b[1;32m    333\u001b[0m \u001b[39m    \u001b[39m\u001b[39m\"\"\"Return the Python representation of ``s`` (a ``str`` instance\u001b[39;00m\n\u001b[1;32m    334\u001b[0m \u001b[39m    containing a JSON document).\u001b[39;00m\n\u001b[1;32m    335\u001b[0m \n\u001b[1;32m    336\u001b[0m \u001b[39m    \"\"\"\u001b[39;00m\n\u001b[0;32m--> 337\u001b[0m     obj, end \u001b[39m=\u001b[39m \u001b[39mself\u001b[39;49m\u001b[39m.\u001b[39;49mraw_decode(s, idx\u001b[39m=\u001b[39;49m_w(s, \u001b[39m0\u001b[39;49m)\u001b[39m.\u001b[39;49mend())\n\u001b[1;32m    338\u001b[0m     end \u001b[39m=\u001b[39m _w(s, end)\u001b[39m.\u001b[39mend()\n\u001b[1;32m    339\u001b[0m     \u001b[39mif\u001b[39;00m end \u001b[39m!=\u001b[39m \u001b[39mlen\u001b[39m(s):\n",
      "File \u001b[0;32m~/miniconda3/envs/hcmut/lib/python3.10/json/decoder.py:355\u001b[0m, in \u001b[0;36mJSONDecoder.raw_decode\u001b[0;34m(self, s, idx)\u001b[0m\n\u001b[1;32m    353\u001b[0m     obj, end \u001b[39m=\u001b[39m \u001b[39mself\u001b[39m\u001b[39m.\u001b[39mscan_once(s, idx)\n\u001b[1;32m    354\u001b[0m \u001b[39mexcept\u001b[39;00m \u001b[39mStopIteration\u001b[39;00m \u001b[39mas\u001b[39;00m err:\n\u001b[0;32m--> 355\u001b[0m     \u001b[39mraise\u001b[39;00m JSONDecodeError(\u001b[39m\"\u001b[39m\u001b[39mExpecting value\u001b[39m\u001b[39m\"\u001b[39m, s, err\u001b[39m.\u001b[39mvalue) \u001b[39mfrom\u001b[39;00m \u001b[39mNone\u001b[39;00m\n\u001b[1;32m    356\u001b[0m \u001b[39mreturn\u001b[39;00m obj, end\n",
      "\u001b[0;31mJSONDecodeError\u001b[0m: Expecting value: line 1 column 1 (char 0)"
     ]
    }
   ],
   "source": [
    "from run import Inference\n",
    "\n",
    "inference = Inference()\n",
    "answer = inference('ai là giám đôc công ty Vietspevtre')"
   ]
  },
  {
   "cell_type": "code",
   "execution_count": 2,
   "metadata": {},
   "outputs": [
    {
     "ename": "NameError",
     "evalue": "name 'answer' is not defined",
     "output_type": "error",
     "traceback": [
      "\u001b[0;31m---------------------------------------------------------------------------\u001b[0m",
      "\u001b[0;31mNameError\u001b[0m                                 Traceback (most recent call last)",
      "\u001b[1;32m/home/nguyen/code/ai_hcmut_project/test.ipynb Cell 3\u001b[0m line \u001b[0;36m1\n\u001b[0;32m----> <a href='vscode-notebook-cell:/home/nguyen/code/ai_hcmut_project/test.ipynb#W2sZmlsZQ%3D%3D?line=0'>1</a>\u001b[0m \u001b[39mprint\u001b[39m(answer[\u001b[39m0\u001b[39m])\n",
      "\u001b[0;31mNameError\u001b[0m: name 'answer' is not defined"
     ]
    }
   ],
   "source": [
    "print(answer[0])"
   ]
  },
  {
   "cell_type": "code",
   "execution_count": null,
   "metadata": {},
   "outputs": [],
   "source": []
  }
 ],
 "metadata": {
  "kernelspec": {
   "display_name": "fact",
   "language": "python",
   "name": "python3"
  },
  "language_info": {
   "codemirror_mode": {
    "name": "ipython",
    "version": 3
   },
   "file_extension": ".py",
   "mimetype": "text/x-python",
   "name": "python",
   "nbconvert_exporter": "python",
   "pygments_lexer": "ipython3",
   "version": "3.10.12"
  },
  "orig_nbformat": 4
 },
 "nbformat": 4,
 "nbformat_minor": 2
}
