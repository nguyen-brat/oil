{
 "cells": [
  {
   "cell_type": "code",
   "execution_count": null,
   "metadata": {},
   "outputs": [],
   "source": [
    "import requests\n",
    "import json\n",
    "URL = \"https://bahnar.dscilab.com:20007/llama/api\"\n",
    "headers  = {\"Content-Type\": \"application/json\"}\n",
    "\n",
    "info = {\n",
    "    \"prompt\": \"Khoảng cách từ trái đất đến mặt trời là bao xa\",\n",
    "    \"lang\": \"vi\"\n",
    "}\n",
    "\n",
    "resp = requests.post(URL, headers = headers, data=json.dumps(info))\n",
    "data = json.loads(resp.content)\n",
    "print(data['answer'])"
   ]
  },
  {
   "cell_type": "code",
   "execution_count": null,
   "metadata": {},
   "outputs": [],
   "source": [
    "from run import Inference\n",
    "\n",
    "inference = Inference(url='https://bahnar.dscilab.com:20007/llama/api')\n",
    "answer = inference('công ty Vietsovpetro được thành lập năm nào ?')"
   ]
  },
  {
   "cell_type": "code",
   "execution_count": null,
   "metadata": {},
   "outputs": [
    {
     "name": "stdout",
     "output_type": "stream",
     "text": [
      " Công ty Vietsovpetro được thành lập năm 1981, theo Quyết định 211-QĐ/TTg ngày 25/8/1981 của Thủ tướng Chính phủ. - Văn bản 101110/TCTWL-KHCN ngày 15/8/1996 của Bộ Tài chính về việc thành lập công ty Vietsovpetro. - Thông tư 31/2006/TT-BTNMT ngày 10/10/2006 của Bộ Tài chính về việc thành lập công ty Vietsovpetro. - Thông tư 32/2007/TT-BTC ngày 28/11/2007 của Bộ Tài ch\n"
     ]
    }
   ],
   "source": [
    "print(answer[0])"
   ]
  },
  {
   "cell_type": "code",
   "execution_count": null,
   "metadata": {},
   "outputs": [
    {
     "data": {
      "text/plain": [
       "['Tới dự Hội nghị, về phía Vietsovpetro có ông Trần Quốc Thắng – Phó tổng Giám đốc và lãnh đạo một số phòng/ban, đơn vị trực thuộc. Về phía XNDV có ông Đỗ Mạnh Hà – Giám đốc Xí nghiệp cùng Ban Giám đốc, đại diện các phòng, ban đơn vị trong Xí nghiệp.\\n\\nTham dự Hội thảo có đại diện các công ty đối tác chính: Công ty Cổ phần Dịch vụ Biển Tân Cảng, Công ty Cổ phần Xây dựng Khai thác Cảng HVK, Tổng Công ty Hóa chất và DV Dầu khí - CTCP - Chi nhánh Dịch vụ Hóa chất Dầu khí (PVCHEM-CS), Công ty Cổ phần Công nghệ và Dịch vụ ATC, Công ty TNHH Vietubes, Công ty TNHH Giao nhận Hàng hóa XNK Củ Chi, Công ty Cổ phần Vận tải biển Biển Xanh, Công ty TNHH Altus Việt Nam, Công ty TNHH Indochina Shipping Service and Forwarding, Công ty Cổ phần Năng Lượng HT, Công ty Cổ phần Xây lắp Công trình Năng lượng Biển (OEI), Công ty Cổ phần Thương mại Dịch vụ Dầu khí Hoàng Nguyên, Công ty TNHH Minh Tuấn…',\n",
       " 'Liên doanh Vietsovpetro (gọi tắt là Vietsovpetro) là pháp nhân hợp pháp của nước CHXHCN Việt Nam, được thành lập năm 1981, là đơn vị thành viên của Tập đoàn Dầu khí Quốc gia Việt Nam, doanh nghiệp hàng đầu trong lĩnh vực Tìm kiếm, thăm dò địa chất và khai thác dầu khí tại Việt Nam; là đối tác tin cậy, giúp đáp ứng nhu cầu gia tăng năng lượng trong sản xuất và tiêu dùng của Việt Nam theo hướng hiệu quả và bền vững.\\n\\nLĩnh vực hoạt động chính của Vietsovpetro là nghiên cứu khoa học, khảo sát, khoan thăm dò địa chất, thiết kế phát triển xây dựng mỏ, khai thác dầu và khí, thu gom xử lý dầu, khí và condensate tại Lô 09-1 và các Lô dầu khí khác ở thềm lục địa Việt Nam; cung cấp các dịch vụ dầu khí/năng lượng cho các đối tác ở Việt Nam và trong khu vực.',\n",
       " 'đơn vị trực thuộc liên doanh Vietsovpectro\\nTRUN\\u200b\\u200bG TÂM Y TẾ\\u200b\\nĐịa chỉ:  Số 2 Pasteur - Khu 5 tầng, phường 7, thành phố Vũng Tàu, Việt Nam\\nĐiện thoại: 84.254.3838662 Ext  8379\\nCấp cứu: Số ngoài LD: 0\\u200b2543 565 757; Số nội bộ: 02543 839871/02543839872 - Ext: 8388 hoặc 8304\\u200b\\u200b\\u200b\\nFax:84.254.3839857 Ext   8306\\n\\nTrung tâm Y tế được thành lập năm 1982.\\n\\nChức năng - Nhiệm vụ:\\n\\nBảo đảm việc chăm sóc sức khỏe toàn diện cho cán bộ công nhân viên Vietsovpetro, cấp cứu biển.\\nThực hiện đồng bộ công tác sức khỏe nghề nghiệp bao gồm: vệ sinh dịch tễ, vệ sinh môi trường, vệ sinh dinh dưỡng, vệ sinh an toàn thực phẩm, truyền thông giáo dục sức khỏe, phòng chống HIV, ma túy và thuốc lá ở Vietsovpetro.\\nCung cấp dịch vụ khám chữa bệnh, kiểm tra sức khỏe định kỳ cho các đơn vị trong và ngoài ngành Dầu khí.']"
      ]
     },
     "execution_count": 6,
     "metadata": {},
     "output_type": "execute_result"
    }
   ],
   "source": [
    "answer[1]"
   ]
  },
  {
   "cell_type": "code",
   "execution_count": 7,
   "metadata": {},
   "outputs": [],
   "source": [
    "import re\n",
    "def clean(text):\n",
    "    text = re.sub(r'\\n+', r'.', text)\n",
    "    text = re.sub(r'\\.+', r' . ', text)\n",
    "    text = re.sub(r\"['\\\",\\?:\\-!-]\", \"\", text)\n",
    "    text = text.strip()\n",
    "    text = \" \".join(text.split())\n",
    "    text = text.lower()\n",
    "    return text"
   ]
  },
  {
   "cell_type": "code",
   "execution_count": 12,
   "metadata": {},
   "outputs": [
    {
     "name": "stdout",
     "output_type": "stream",
     "text": [
      "ban lãnh đạo của liên doanh vietsovpetro gồm . ông vũ mai khanh tổng giám đốc . ông сараев олег петрович phó tổng giám đốc thứ nhất . ông lê việt dũng phó tổng giám đốc chánh kỹ sư . ông phạm xuân sơn phó tổng giám đốc . ông yakovenko e . v . phó tổng giám đốc . ông trần quốc thắng phó tổng giám đốc . ông lương quốc dân phó tổng giám đốc chánh kế toán . ông trần xuân hoàng phó tổng giám đốc . ông mai đăng tuấn phó tổng giám đốc . ông trần công tín phó tổng giám đốc chánh kinh tế .\n"
     ]
    }
   ],
   "source": [
    "print(clean(f'''Ban lãnh đạo của liên doanh Vietsovpetro gồm\n",
    "Ông Vũ Mai Khanh: Tổng Giám đốc\n",
    "Ông Сараев Олег Петрович Phó Tổng giám đốc thứ nhất\n",
    "Ông Lê Việt Dũng Phó Tổng giám đốc - Chánh Kỹ sư\n",
    "Ông Phạm Xuân Sơn Phó Tổng giám đốc\n",
    "Ông Yakovenko E.V. Phó Tổng giám đốc\n",
    "Ông Trần Quốc Thắng Phó Tổng giám đốc\n",
    "Ông Lương Quốc Dân Phó Tổng giám đốc - Chánh Kế toán\n",
    "Ông Trần Xuân Hoàng Phó Tổng giám đốc\n",
    "Ông Mai Đăng Tuấn Phó Tổng giám đốc\n",
    "Ông Trần Công Tín Phó Tổng giám đốc - Chánh Kinh tế\n",
    "\n",
    "'''))"
   ]
  }
 ],
 "metadata": {
  "kernelspec": {
   "display_name": "fact",
   "language": "python",
   "name": "python3"
  },
  "language_info": {
   "codemirror_mode": {
    "name": "ipython",
    "version": 3
   },
   "file_extension": ".py",
   "mimetype": "text/x-python",
   "name": "python",
   "nbconvert_exporter": "python",
   "pygments_lexer": "ipython3",
   "version": "3.10.12"
  },
  "orig_nbformat": 4
 },
 "nbformat": 4,
 "nbformat_minor": 2
}
