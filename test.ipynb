{
 "cells": [
  {
   "cell_type": "code",
   "execution_count": null,
   "metadata": {},
   "outputs": [],
   "source": [
    "import requests\n",
    "import json\n",
    "URL = \"https://bahnar.dscilab.com:20007/llama/api\"\n",
    "headers  = {\"Content-Type\": \"application/json\"}\n",
    "\n",
    "info = {\n",
    "    \"prompt\": \"Khoảng cách từ trái đất đến mặt trời là bao xa\",\n",
    "    \"lang\": \"vi\"\n",
    "}\n",
    "\n",
    "resp = requests.post(URL, headers = headers, data=json.dumps(info))\n",
    "data = json.loads(resp.content)\n",
    "print(data['answer'])"
   ]
  },
  {
   "cell_type": "code",
   "execution_count": null,
   "metadata": {},
   "outputs": [],
   "source": []
  },
  {
   "cell_type": "code",
   "execution_count": 12,
   "metadata": {},
   "outputs": [
    {
     "name": "stdout",
     "output_type": "stream",
     "text": [
      "<Response [200]>\n"
     ]
    }
   ],
   "source": [
    "from run import Inference\n",
    "\n",
    "inference = Inference(url='https://bahnar.dscilab.com:20007/llama/api')\n",
    "answer = inference('Ai là tổng giám đốc của công ty ?')"
   ]
  },
  {
   "cell_type": "code",
   "execution_count": 13,
   "metadata": {},
   "outputs": [
    {
     "name": "stdout",
     "output_type": "stream",
     "text": [
      "  Tổng Giám đốc Công ty Petrovietnam Lê Mạnh Hùng.\n"
     ]
    }
   ],
   "source": [
    "print(answer[0].split('\\n\\n')[0])"
   ]
  },
  {
   "cell_type": "code",
   "execution_count": 11,
   "metadata": {},
   "outputs": [
    {
     "name": "stdout",
     "output_type": "stream",
     "text": [
      "['Tới dự Hội nghị, về phía Vietsovpetro có ông Trần Quốc Thắng – Phó tổng Giám đốc và lãnh đạo một số phòng/ban, đơn vị trực thuộc. Về phía XNDV có ông Đỗ Mạnh Hà – Giám đốc Xí nghiệp cùng Ban Giám đốc, đại diện các phòng, ban đơn vị trong Xí nghiệp.\\n\\nTham dự Hội thảo có đại diện các công ty đối tác chính: Công ty Cổ phần Dịch vụ Biển Tân Cảng, Công ty Cổ phần Xây dựng Khai thác Cảng HVK, Tổng Công ty Hóa chất và DV Dầu khí - CTCP - Chi nhánh Dịch vụ Hóa chất Dầu khí (PVCHEM-CS), Công ty Cổ phần Công nghệ và Dịch vụ ATC, Công ty TNHH Vietubes, Công ty TNHH Giao nhận Hàng hóa XNK Củ Chi, Công ty Cổ phần Vận tải biển Biển Xanh, Công ty TNHH Altus Việt Nam, Công ty TNHH Indochina Shipping Service and Forwarding, Công ty Cổ phần Năng Lượng HT, Công ty Cổ phần Xây lắp Công trình Năng lượng Biển (OEI), Công ty Cổ phần Thương mại Dịch vụ Dầu khí Hoàng Nguyên, Công ty TNHH Minh Tuấn…', 'Trong chương trình các đại biểu đã được đi thăm Đất mũi Cà Mau, điểm tận cùng phía Nam của Tổ quốc, nghe giới thiệu và tìm hiểu về lịch sử mở cõi của cha ông, cũng như lịch sử đấu tranh dành độc lập, tự do và bảo về vững chắc chủ quyền đất nước. Tìm hiểu về lịch sử, con người của mảnh đất trù phú, có hệ sinh thái rừng ngập mặn rất đa dạng và phong phú. Đoàn cũng đã đến thăm và giao lưu với CBCNV-NLĐ Công ty Cổ phần Phân bón Dầu khí Cà Mau, nghe giới thiệu về quá trình hình thành và phát triển của Công ty, thăm quan nhà máy sản xuất đạm, và cụm nhà máy chế biến khí, nhà máy điện; chia sẻ kinh nghiệm hoạt động phong trào Lao động sáng tạo của hai đơn vị. Nhiều thành viên trong đoàn rất vui khi được quay trở lại dự án mà trước đây đã cùng với nhiều chuyên gia, kỹ sư Vietsovpetro tham gia xây dựng tuyến ống PM3-Cà Mau, đóng góp công sức rất lớn cho việc hoàn thành dự án trọng điểm Quốc gia Cụm Khí – Điện – Đạm Cà Mau.\\n\\nTại buổi gặp mặt, giao lưu với chủ đề “Vietsovpetro – Giữ lửa cho trương lai\", đồng chí Hoàng Phúc Long, Chủ tịch Công đoàn Vietsovpetro đã có những lời cảm ơn trước những đóng góp của các CBCNV-NLĐ tiêu biểu, đặc biệt là trong phong trào Lao động sáng tạo, góp phần rất lớn vào thành tích của Công đoàn Vietsovpetro nói riêng và của Liên doanh Vietsovpetro nói chung trong nhiều năm qua. Đồng chí cũng phát động phong trào thi đua lao động sáng tạo, bảo đảm an toàn, nội quy lao động để đảm bảo hoàn thành cao nhất nhiệm vụ sản xuất năm 2023. Mỗi cán bộ, đoàn viên người lao động thực hiện tốt nhất nhiệm vụ chuyên môn của mình, điều đó sẽ góp phần cùng Vietsovpetro hoàn thành kế hoạch sản xuất, kinh doanh và các nhiệm vụ bổ sung mà Hội đồng 55 giao, cũng như phấn đấu hoàn thành kế hoạch quản trị của Tập đoàn giao, theo đúng tinh thần Kế hoạch 39-KH/ĐU ngày 28/9/2023 của Đảng ủy Vietsovpetro.', 'Phát biểu khai mạc Hội thảo, ông Đỗ Mạnh Hà – Giám đốc Xí nghiệp Dịch vụ đã nhấn mạnh ý nghĩa của Hội thảo, đồng thời tóm tắt các thành công, điểm mạnh, cơ hội và thách thức của Xí nghiệp Dịch vụ về công tác dịch vụ. Ông mong muốn được lắng nghe ý kiến từ các đại biểu tham dự để các dịch vụ Cảng và Logistics của Xí nghiệp ngày càng phát triển trong thời gian tới.\\n\\nTại Hội thảo, các đại biểu cũng đã được nghe nhiều ý kiến phát biểu thẳng thắn, đánh giá ghi nhận chất lượng dịch vụ cũng như các góp ý, kiến nghị của các khách hàng như: Công ty TNHH Giao nhận Hàng hóa XNK Củ Chi, Công ty TNHH Vietubes, Tổng Công ty Hóa chất và DV Dầu khí - CTCP - Chi nhánh Dịch vụ Hóa chất Dầu khí (PVCHEM-CS), Công ty Cổ phần Thương mại Dịch vụ Dầu khí Hoàng Nguyên, Công ty TNHH Altus Việt Nam, Công ty Cổ phần Xây dựng Khai thác Cảng HVK... Các công ty khách hàng ghi nhận và đánh giá cao hợp tác với Xí nghiệp Dịch vụ trong thời gian qua và mong muốn Xí nghiệp Dịch vụ rút kinh nghiệm, điều chỉnh bổ sung và hoàn thiện hơn trong công tác dịch vụ của mình trong thời gian tới, nhằm thu hút được nhiều khách hàng sử dụng dịch vụ logistics của XNDV.\\n\\n']\n"
     ]
    }
   ],
   "source": [
    "print(answer[1])"
   ]
  },
  {
   "cell_type": "code",
   "execution_count": null,
   "metadata": {},
   "outputs": [],
   "source": []
  }
 ],
 "metadata": {
  "kernelspec": {
   "display_name": "fact",
   "language": "python",
   "name": "python3"
  },
  "language_info": {
   "codemirror_mode": {
    "name": "ipython",
    "version": 3
   },
   "file_extension": ".py",
   "mimetype": "text/x-python",
   "name": "python",
   "nbconvert_exporter": "python",
   "pygments_lexer": "ipython3",
   "version": "3.10.12"
  },
  "orig_nbformat": 4
 },
 "nbformat": 4,
 "nbformat_minor": 2
}
