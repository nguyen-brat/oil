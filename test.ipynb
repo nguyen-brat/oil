{
 "cells": [
  {
   "cell_type": "code",
   "execution_count": null,
   "metadata": {},
   "outputs": [],
   "source": [
    "import requests\n",
    "import json\n",
    "URL = \"https://bahnar.dscilab.com:20007/llama/api\"\n",
    "headers  = {\"Content-Type\": \"application/json\"}\n",
    "\n",
    "info = {\n",
    "    \"prompt\": \"Khoảng cách từ trái đất đến mặt trời là bao xa\",\n",
    "    \"lang\": \"vi\"\n",
    "}\n",
    "\n",
    "resp = requests.post(URL, headers = headers, data=json.dumps(info))\n",
    "data = json.loads(resp.content)\n",
    "print(data['answer'])"
   ]
  },
  {
   "cell_type": "code",
   "execution_count": 1,
   "metadata": {},
   "outputs": [
    {
     "name": "stderr",
     "output_type": "stream",
     "text": [
      "/home/nguyen/.local/lib/python3.10/site-packages/tqdm/auto.py:21: TqdmWarning: IProgress not found. Please update jupyter and ipywidgets. See https://ipywidgets.readthedocs.io/en/stable/user_install.html\n",
      "  from .autonotebook import tqdm as notebook_tqdm\n"
     ]
    },
    {
     "name": "stdout",
     "output_type": "stream",
     "text": [
      "<Response [500]>\n"
     ]
    },
    {
     "ename": "JSONDecodeError",
     "evalue": "Expecting value: line 1 column 1 (char 0)",
     "output_type": "error",
     "traceback": [
      "\u001b[0;31m---------------------------------------------------------------------------\u001b[0m",
      "\u001b[0;31mJSONDecodeError\u001b[0m                           Traceback (most recent call last)",
      "\u001b[1;32m/home/nguyen/code/oil/test.ipynb Cell 2\u001b[0m line \u001b[0;36m4\n\u001b[1;32m      <a href='vscode-notebook-cell:/home/nguyen/code/oil/test.ipynb#W1sZmlsZQ%3D%3D?line=0'>1</a>\u001b[0m \u001b[39mfrom\u001b[39;00m \u001b[39mrun\u001b[39;00m \u001b[39mimport\u001b[39;00m Inference\n\u001b[1;32m      <a href='vscode-notebook-cell:/home/nguyen/code/oil/test.ipynb#W1sZmlsZQ%3D%3D?line=2'>3</a>\u001b[0m inference \u001b[39m=\u001b[39m Inference(url\u001b[39m=\u001b[39m\u001b[39m'\u001b[39m\u001b[39mhttps://bahnar.dscilab.com:20007/llama/api\u001b[39m\u001b[39m'\u001b[39m)\n\u001b[0;32m----> <a href='vscode-notebook-cell:/home/nguyen/code/oil/test.ipynb#W1sZmlsZQ%3D%3D?line=3'>4</a>\u001b[0m answer \u001b[39m=\u001b[39m inference(\u001b[39m'\u001b[39;49m\u001b[39mcông ty Vietsovpetro được thành lập năm nào ?\u001b[39;49m\u001b[39m'\u001b[39;49m)\n",
      "File \u001b[0;32m~/code/oil/run.py:22\u001b[0m, in \u001b[0;36mInference.__call__\u001b[0;34m(self, question)\u001b[0m\n\u001b[1;32m     20\u001b[0m informations \u001b[39m=\u001b[39m \u001b[39mself\u001b[39m\u001b[39m.\u001b[39mdoc_retrieval(query\u001b[39m=\u001b[39mquestion, k\u001b[39m=\u001b[39m\u001b[39m10\u001b[39m)\n\u001b[1;32m     21\u001b[0m \u001b[39m#joint_information = '\\n'.join(informations)\u001b[39;00m\n\u001b[0;32m---> 22\u001b[0m answer \u001b[39m=\u001b[39m \u001b[39mself\u001b[39;49m\u001b[39m.\u001b[39;49mllm(question\u001b[39m=\u001b[39;49mquestion, contexts\u001b[39m=\u001b[39;49minformations)\n\u001b[1;32m     23\u001b[0m \u001b[39m#answer = self.translator.translate(answer ,src='en' ,dest='vi').text\u001b[39;00m\n\u001b[1;32m     24\u001b[0m \u001b[39mreturn\u001b[39;00m answer, informations[:\u001b[39m3\u001b[39m]\n",
      "File \u001b[0;32m~/code/oil/llm.py:40\u001b[0m, in \u001b[0;36mLlmInference.__call__\u001b[0;34m(self, question, contexts)\u001b[0m\n\u001b[1;32m     38\u001b[0m resp \u001b[39m=\u001b[39m requests\u001b[39m.\u001b[39mpost(\u001b[39mself\u001b[39m\u001b[39m.\u001b[39murl, headers \u001b[39m=\u001b[39m \u001b[39mself\u001b[39m\u001b[39m.\u001b[39mheader, data\u001b[39m=\u001b[39mjson\u001b[39m.\u001b[39mdumps(info))\n\u001b[1;32m     39\u001b[0m \u001b[39mprint\u001b[39m(resp)\n\u001b[0;32m---> 40\u001b[0m data \u001b[39m=\u001b[39m json\u001b[39m.\u001b[39;49mloads(resp\u001b[39m.\u001b[39;49mcontent)\n\u001b[1;32m     41\u001b[0m \u001b[39mreturn\u001b[39;00m data[\u001b[39m'\u001b[39m\u001b[39manswer\u001b[39m\u001b[39m'\u001b[39m]\n",
      "File \u001b[0;32m~/miniconda3/envs/hcmut/lib/python3.10/json/__init__.py:346\u001b[0m, in \u001b[0;36mloads\u001b[0;34m(s, cls, object_hook, parse_float, parse_int, parse_constant, object_pairs_hook, **kw)\u001b[0m\n\u001b[1;32m    341\u001b[0m     s \u001b[39m=\u001b[39m s\u001b[39m.\u001b[39mdecode(detect_encoding(s), \u001b[39m'\u001b[39m\u001b[39msurrogatepass\u001b[39m\u001b[39m'\u001b[39m)\n\u001b[1;32m    343\u001b[0m \u001b[39mif\u001b[39;00m (\u001b[39mcls\u001b[39m \u001b[39mis\u001b[39;00m \u001b[39mNone\u001b[39;00m \u001b[39mand\u001b[39;00m object_hook \u001b[39mis\u001b[39;00m \u001b[39mNone\u001b[39;00m \u001b[39mand\u001b[39;00m\n\u001b[1;32m    344\u001b[0m         parse_int \u001b[39mis\u001b[39;00m \u001b[39mNone\u001b[39;00m \u001b[39mand\u001b[39;00m parse_float \u001b[39mis\u001b[39;00m \u001b[39mNone\u001b[39;00m \u001b[39mand\u001b[39;00m\n\u001b[1;32m    345\u001b[0m         parse_constant \u001b[39mis\u001b[39;00m \u001b[39mNone\u001b[39;00m \u001b[39mand\u001b[39;00m object_pairs_hook \u001b[39mis\u001b[39;00m \u001b[39mNone\u001b[39;00m \u001b[39mand\u001b[39;00m \u001b[39mnot\u001b[39;00m kw):\n\u001b[0;32m--> 346\u001b[0m     \u001b[39mreturn\u001b[39;00m _default_decoder\u001b[39m.\u001b[39;49mdecode(s)\n\u001b[1;32m    347\u001b[0m \u001b[39mif\u001b[39;00m \u001b[39mcls\u001b[39m \u001b[39mis\u001b[39;00m \u001b[39mNone\u001b[39;00m:\n\u001b[1;32m    348\u001b[0m     \u001b[39mcls\u001b[39m \u001b[39m=\u001b[39m JSONDecoder\n",
      "File \u001b[0;32m~/miniconda3/envs/hcmut/lib/python3.10/json/decoder.py:337\u001b[0m, in \u001b[0;36mJSONDecoder.decode\u001b[0;34m(self, s, _w)\u001b[0m\n\u001b[1;32m    332\u001b[0m \u001b[39mdef\u001b[39;00m \u001b[39mdecode\u001b[39m(\u001b[39mself\u001b[39m, s, _w\u001b[39m=\u001b[39mWHITESPACE\u001b[39m.\u001b[39mmatch):\n\u001b[1;32m    333\u001b[0m \u001b[39m    \u001b[39m\u001b[39m\"\"\"Return the Python representation of ``s`` (a ``str`` instance\u001b[39;00m\n\u001b[1;32m    334\u001b[0m \u001b[39m    containing a JSON document).\u001b[39;00m\n\u001b[1;32m    335\u001b[0m \n\u001b[1;32m    336\u001b[0m \u001b[39m    \"\"\"\u001b[39;00m\n\u001b[0;32m--> 337\u001b[0m     obj, end \u001b[39m=\u001b[39m \u001b[39mself\u001b[39;49m\u001b[39m.\u001b[39;49mraw_decode(s, idx\u001b[39m=\u001b[39;49m_w(s, \u001b[39m0\u001b[39;49m)\u001b[39m.\u001b[39;49mend())\n\u001b[1;32m    338\u001b[0m     end \u001b[39m=\u001b[39m _w(s, end)\u001b[39m.\u001b[39mend()\n\u001b[1;32m    339\u001b[0m     \u001b[39mif\u001b[39;00m end \u001b[39m!=\u001b[39m \u001b[39mlen\u001b[39m(s):\n",
      "File \u001b[0;32m~/miniconda3/envs/hcmut/lib/python3.10/json/decoder.py:355\u001b[0m, in \u001b[0;36mJSONDecoder.raw_decode\u001b[0;34m(self, s, idx)\u001b[0m\n\u001b[1;32m    353\u001b[0m     obj, end \u001b[39m=\u001b[39m \u001b[39mself\u001b[39m\u001b[39m.\u001b[39mscan_once(s, idx)\n\u001b[1;32m    354\u001b[0m \u001b[39mexcept\u001b[39;00m \u001b[39mStopIteration\u001b[39;00m \u001b[39mas\u001b[39;00m err:\n\u001b[0;32m--> 355\u001b[0m     \u001b[39mraise\u001b[39;00m JSONDecodeError(\u001b[39m\"\u001b[39m\u001b[39mExpecting value\u001b[39m\u001b[39m\"\u001b[39m, s, err\u001b[39m.\u001b[39mvalue) \u001b[39mfrom\u001b[39;00m \u001b[39mNone\u001b[39;00m\n\u001b[1;32m    356\u001b[0m \u001b[39mreturn\u001b[39;00m obj, end\n",
      "\u001b[0;31mJSONDecodeError\u001b[0m: Expecting value: line 1 column 1 (char 0)"
     ]
    }
   ],
   "source": [
    "from run import Inference\n",
    "\n",
    "inference = Inference(url='https://bahnar.dscilab.com:20007/llama/api')\n",
    "answer = inference('công ty Vietsovpetro được thành lập năm nào ?')"
   ]
  },
  {
   "cell_type": "code",
   "execution_count": null,
   "metadata": {},
   "outputs": [
    {
     "name": "stdout",
     "output_type": "stream",
     "text": [
      " Công ty Vietsovpetro được thành lập năm 1981, theo Quyết định 211-QĐ/TTg ngày 25/8/1981 của Thủ tướng Chính phủ. - Văn bản 101110/TCTWL-KHCN ngày 15/8/1996 của Bộ Tài chính về việc thành lập công ty Vietsovpetro. - Thông tư 31/2006/TT-BTNMT ngày 10/10/2006 của Bộ Tài chính về việc thành lập công ty Vietsovpetro. - Thông tư 32/2007/TT-BTC ngày 28/11/2007 của Bộ Tài ch\n"
     ]
    }
   ],
   "source": [
    "print(answer[0])"
   ]
  },
  {
   "cell_type": "code",
   "execution_count": null,
   "metadata": {},
   "outputs": [
    {
     "data": {
      "text/plain": [
       "['Tới dự Hội nghị, về phía Vietsovpetro có ông Trần Quốc Thắng – Phó tổng Giám đốc và lãnh đạo một số phòng/ban, đơn vị trực thuộc. Về phía XNDV có ông Đỗ Mạnh Hà – Giám đốc Xí nghiệp cùng Ban Giám đốc, đại diện các phòng, ban đơn vị trong Xí nghiệp.\\n\\nTham dự Hội thảo có đại diện các công ty đối tác chính: Công ty Cổ phần Dịch vụ Biển Tân Cảng, Công ty Cổ phần Xây dựng Khai thác Cảng HVK, Tổng Công ty Hóa chất và DV Dầu khí - CTCP - Chi nhánh Dịch vụ Hóa chất Dầu khí (PVCHEM-CS), Công ty Cổ phần Công nghệ và Dịch vụ ATC, Công ty TNHH Vietubes, Công ty TNHH Giao nhận Hàng hóa XNK Củ Chi, Công ty Cổ phần Vận tải biển Biển Xanh, Công ty TNHH Altus Việt Nam, Công ty TNHH Indochina Shipping Service and Forwarding, Công ty Cổ phần Năng Lượng HT, Công ty Cổ phần Xây lắp Công trình Năng lượng Biển (OEI), Công ty Cổ phần Thương mại Dịch vụ Dầu khí Hoàng Nguyên, Công ty TNHH Minh Tuấn…',\n",
       " 'Liên doanh Vietsovpetro (gọi tắt là Vietsovpetro) là pháp nhân hợp pháp của nước CHXHCN Việt Nam, được thành lập năm 1981, là đơn vị thành viên của Tập đoàn Dầu khí Quốc gia Việt Nam, doanh nghiệp hàng đầu trong lĩnh vực Tìm kiếm, thăm dò địa chất và khai thác dầu khí tại Việt Nam; là đối tác tin cậy, giúp đáp ứng nhu cầu gia tăng năng lượng trong sản xuất và tiêu dùng của Việt Nam theo hướng hiệu quả và bền vững.\\n\\nLĩnh vực hoạt động chính của Vietsovpetro là nghiên cứu khoa học, khảo sát, khoan thăm dò địa chất, thiết kế phát triển xây dựng mỏ, khai thác dầu và khí, thu gom xử lý dầu, khí và condensate tại Lô 09-1 và các Lô dầu khí khác ở thềm lục địa Việt Nam; cung cấp các dịch vụ dầu khí/năng lượng cho các đối tác ở Việt Nam và trong khu vực.',\n",
       " 'đơn vị trực thuộc liên doanh Vietsovpectro\\nTRUN\\u200b\\u200bG TÂM Y TẾ\\u200b\\nĐịa chỉ:  Số 2 Pasteur - Khu 5 tầng, phường 7, thành phố Vũng Tàu, Việt Nam\\nĐiện thoại: 84.254.3838662 Ext  8379\\nCấp cứu: Số ngoài LD: 0\\u200b2543 565 757; Số nội bộ: 02543 839871/02543839872 - Ext: 8388 hoặc 8304\\u200b\\u200b\\u200b\\nFax:84.254.3839857 Ext   8306\\n\\nTrung tâm Y tế được thành lập năm 1982.\\n\\nChức năng - Nhiệm vụ:\\n\\nBảo đảm việc chăm sóc sức khỏe toàn diện cho cán bộ công nhân viên Vietsovpetro, cấp cứu biển.\\nThực hiện đồng bộ công tác sức khỏe nghề nghiệp bao gồm: vệ sinh dịch tễ, vệ sinh môi trường, vệ sinh dinh dưỡng, vệ sinh an toàn thực phẩm, truyền thông giáo dục sức khỏe, phòng chống HIV, ma túy và thuốc lá ở Vietsovpetro.\\nCung cấp dịch vụ khám chữa bệnh, kiểm tra sức khỏe định kỳ cho các đơn vị trong và ngoài ngành Dầu khí.']"
      ]
     },
     "execution_count": 6,
     "metadata": {},
     "output_type": "execute_result"
    }
   ],
   "source": [
    "answer[1]"
   ]
  },
  {
   "cell_type": "code",
   "execution_count": 7,
   "metadata": {},
   "outputs": [],
   "source": [
    "import re\n",
    "def clean(text):\n",
    "    text = re.sub(r'\\n+', r'.', text)\n",
    "    text = re.sub(r'\\.+', r' . ', text)\n",
    "    text = re.sub(r\"['\\\",\\?:\\-!-]\", \"\", text)\n",
    "    text = text.strip()\n",
    "    text = \" \".join(text.split())\n",
    "    text = text.lower()\n",
    "    return text"
   ]
  },
  {
   "cell_type": "code",
   "execution_count": 12,
   "metadata": {},
   "outputs": [
    {
     "name": "stdout",
     "output_type": "stream",
     "text": [
      "ban lãnh đạo của liên doanh vietsovpetro gồm . ông vũ mai khanh tổng giám đốc . ông сараев олег петрович phó tổng giám đốc thứ nhất . ông lê việt dũng phó tổng giám đốc chánh kỹ sư . ông phạm xuân sơn phó tổng giám đốc . ông yakovenko e . v . phó tổng giám đốc . ông trần quốc thắng phó tổng giám đốc . ông lương quốc dân phó tổng giám đốc chánh kế toán . ông trần xuân hoàng phó tổng giám đốc . ông mai đăng tuấn phó tổng giám đốc . ông trần công tín phó tổng giám đốc chánh kinh tế .\n"
     ]
    }
   ],
   "source": [
    "print(clean(f'''Ban lãnh đạo của liên doanh Vietsovpetro gồm\n",
    "Ông Vũ Mai Khanh: Tổng Giám đốc\n",
    "Ông Сараев Олег Петрович Phó Tổng giám đốc thứ nhất\n",
    "Ông Lê Việt Dũng Phó Tổng giám đốc - Chánh Kỹ sư\n",
    "Ông Phạm Xuân Sơn Phó Tổng giám đốc\n",
    "Ông Yakovenko E.V. Phó Tổng giám đốc\n",
    "Ông Trần Quốc Thắng Phó Tổng giám đốc\n",
    "Ông Lương Quốc Dân Phó Tổng giám đốc - Chánh Kế toán\n",
    "Ông Trần Xuân Hoàng Phó Tổng giám đốc\n",
    "Ông Mai Đăng Tuấn Phó Tổng giám đốc\n",
    "Ông Trần Công Tín Phó Tổng giám đốc - Chánh Kinh tế\n",
    "\n",
    "'''))"
   ]
  }
 ],
 "metadata": {
  "kernelspec": {
   "display_name": "fact",
   "language": "python",
   "name": "python3"
  },
  "language_info": {
   "codemirror_mode": {
    "name": "ipython",
    "version": 3
   },
   "file_extension": ".py",
   "mimetype": "text/x-python",
   "name": "python",
   "nbconvert_exporter": "python",
   "pygments_lexer": "ipython3",
   "version": "3.10.12"
  },
  "orig_nbformat": 4
 },
 "nbformat": 4,
 "nbformat_minor": 2
}
